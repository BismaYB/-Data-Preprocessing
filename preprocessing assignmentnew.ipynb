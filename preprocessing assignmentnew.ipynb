{
 "cells": [
  {
   "cell_type": "markdown",
   "id": "d58c99e1-a67e-45ce-a683-476a2d826f4d",
   "metadata": {},
   "source": [
    "<h1 style=\"color:red;\">DATA PREPROCESSING </h1>"
   ]
  },
  {
   "cell_type": "markdown",
   "id": "696b7d0a-213c-49ef-b078-3c60a7254506",
   "metadata": {},
   "source": [
    "<h3 style=\"color:blue;\">\n",
    "    \n",
    "1. Data Exploration: Explore the data, list down the unique values in each feature.\n",
    "2. Data Cleaning: Find the missing and inappropriate values, treat them appropriately.\n",
    "3. Data Analysis: Filter the data with age > 40 and salary < 5000\n",
    "4. Data Encoding: Convert categorical variables into numerical representations.\n",
    "5. Feature Scaling: Perform the scaling of the features using StandardScaler and MinMaxScaler. </h3>"
   ]
  },
  {
   "cell_type": "markdown",
   "id": "c0423ecb-b6fc-4a4b-9809-bada2d6a80c0",
   "metadata": {},
   "source": [
    "<h4  style=\"color:green;\"> Import Libraries and load data</h4>\n"
   ]
  },
  {
   "cell_type": "code",
   "execution_count": 24,
   "id": "f22f236f-16b5-4135-a767-6d3a9d9f0004",
   "metadata": {},
   "outputs": [],
   "source": [
    "import pandas as pd\n",
    "import numpy as np\n",
    "import matplotlib.pyplot as plt\n",
    "import seaborn as sns\n",
    "from sklearn.preprocessing import StandardScaler, MinMaxScaler"
   ]
  },
  {
   "cell_type": "code",
   "execution_count": 25,
   "id": "576d8d66-3e9a-4a55-b67b-0f0e3445a220",
   "metadata": {},
   "outputs": [
    {
     "name": "stdout",
     "output_type": "stream",
     "text": [
      "     Company   Age  Salary     Place Country  Gender\n",
      "0        TCS  20.0     NaN   Chennai   India       0\n",
      "1    Infosys  30.0     NaN    Mumbai   India       0\n",
      "2        TCS  35.0  2300.0  Calcutta   India       0\n",
      "3    Infosys  40.0  3000.0     Delhi   India       0\n",
      "4        TCS  23.0  4000.0    Mumbai   India       0\n",
      "..       ...   ...     ...       ...     ...     ...\n",
      "143      TCS  33.0  9024.0  Calcutta   India       1\n",
      "144  Infosys  22.0  8787.0  Calcutta   India       1\n",
      "145  Infosys  44.0  4034.0     Delhi   India       1\n",
      "146      TCS  33.0  5034.0    Mumbai   India       1\n",
      "147  Infosys  22.0  8202.0    Cochin   India       0\n",
      "\n",
      "[148 rows x 6 columns]\n"
     ]
    }
   ],
   "source": [
    "# Load dataset\n",
    "df = pd.read_csv('employee.csv')\n",
    "print(df)"
   ]
  },
  {
   "cell_type": "markdown",
   "id": "09bc5e84-eb83-42f7-b275-8a710052f602",
   "metadata": {},
   "source": [
    "<h3  style=\"color:green;\"> 1.Data Exploration </h3>\n"
   ]
  },
  {
   "cell_type": "code",
   "execution_count": 26,
   "id": "9697421d-58f4-435d-8ac1-5c41a66cfb38",
   "metadata": {},
   "outputs": [
    {
     "name": "stdout",
     "output_type": "stream",
     "text": [
      "<class 'pandas.core.frame.DataFrame'>\n",
      "RangeIndex: 148 entries, 0 to 147\n",
      "Data columns (total 6 columns):\n",
      " #   Column   Non-Null Count  Dtype  \n",
      "---  ------   --------------  -----  \n",
      " 0   Company  140 non-null    object \n",
      " 1   Age      130 non-null    float64\n",
      " 2   Salary   124 non-null    float64\n",
      " 3   Place    134 non-null    object \n",
      " 4   Country  148 non-null    object \n",
      " 5   Gender   148 non-null    int64  \n",
      "dtypes: float64(2), int64(1), object(3)\n",
      "memory usage: 7.1+ KB\n",
      "None\n"
     ]
    }
   ],
   "source": [
    "# Display basic information about the dataset\n",
    "print(df.info())"
   ]
  },
  {
   "cell_type": "code",
   "execution_count": 27,
   "id": "e2310951-fde7-4b56-877a-165b71c61376",
   "metadata": {},
   "outputs": [
    {
     "data": {
      "text/plain": [
       "(148, 6)"
      ]
     },
     "execution_count": 27,
     "metadata": {},
     "output_type": "execute_result"
    }
   ],
   "source": [
    "df.shape"
   ]
  },
  {
   "cell_type": "code",
   "execution_count": 28,
   "id": "4f12369d-8e97-4547-8aa3-86e943cccf63",
   "metadata": {},
   "outputs": [
    {
     "data": {
      "text/plain": [
       "Company\n",
       "TCS                          53\n",
       "Infosys                      45\n",
       "CTS                          36\n",
       "Congnizant                    2\n",
       "Infosys Pvt Lmt               2\n",
       "Tata Consultancy Services     2\n",
       "Name: count, dtype: int64"
      ]
     },
     "execution_count": 28,
     "metadata": {},
     "output_type": "execute_result"
    }
   ],
   "source": [
    "df.value_counts(\"Company\")\n"
   ]
  },
  {
   "cell_type": "code",
   "execution_count": 29,
   "id": "27d565c9-8a3c-47bc-a7ce-a6dd97e7864c",
   "metadata": {},
   "outputs": [
    {
     "data": {
      "text/html": [
       "<div>\n",
       "<style scoped>\n",
       "    .dataframe tbody tr th:only-of-type {\n",
       "        vertical-align: middle;\n",
       "    }\n",
       "\n",
       "    .dataframe tbody tr th {\n",
       "        vertical-align: top;\n",
       "    }\n",
       "\n",
       "    .dataframe thead th {\n",
       "        text-align: right;\n",
       "    }\n",
       "</style>\n",
       "<table border=\"1\" class=\"dataframe\">\n",
       "  <thead>\n",
       "    <tr style=\"text-align: right;\">\n",
       "      <th></th>\n",
       "      <th>Company</th>\n",
       "      <th>Age</th>\n",
       "      <th>Salary</th>\n",
       "      <th>Place</th>\n",
       "      <th>Country</th>\n",
       "      <th>Gender</th>\n",
       "    </tr>\n",
       "  </thead>\n",
       "  <tbody>\n",
       "    <tr>\n",
       "      <th>0</th>\n",
       "      <td>TCS</td>\n",
       "      <td>20.0</td>\n",
       "      <td>NaN</td>\n",
       "      <td>Chennai</td>\n",
       "      <td>India</td>\n",
       "      <td>0</td>\n",
       "    </tr>\n",
       "    <tr>\n",
       "      <th>1</th>\n",
       "      <td>Infosys</td>\n",
       "      <td>30.0</td>\n",
       "      <td>NaN</td>\n",
       "      <td>Mumbai</td>\n",
       "      <td>India</td>\n",
       "      <td>0</td>\n",
       "    </tr>\n",
       "    <tr>\n",
       "      <th>2</th>\n",
       "      <td>TCS</td>\n",
       "      <td>35.0</td>\n",
       "      <td>2300.0</td>\n",
       "      <td>Calcutta</td>\n",
       "      <td>India</td>\n",
       "      <td>0</td>\n",
       "    </tr>\n",
       "    <tr>\n",
       "      <th>3</th>\n",
       "      <td>Infosys</td>\n",
       "      <td>40.0</td>\n",
       "      <td>3000.0</td>\n",
       "      <td>Delhi</td>\n",
       "      <td>India</td>\n",
       "      <td>0</td>\n",
       "    </tr>\n",
       "    <tr>\n",
       "      <th>4</th>\n",
       "      <td>TCS</td>\n",
       "      <td>23.0</td>\n",
       "      <td>4000.0</td>\n",
       "      <td>Mumbai</td>\n",
       "      <td>India</td>\n",
       "      <td>0</td>\n",
       "    </tr>\n",
       "    <tr>\n",
       "      <th>5</th>\n",
       "      <td>Infosys</td>\n",
       "      <td>NaN</td>\n",
       "      <td>5000.0</td>\n",
       "      <td>Calcutta</td>\n",
       "      <td>India</td>\n",
       "      <td>0</td>\n",
       "    </tr>\n",
       "    <tr>\n",
       "      <th>6</th>\n",
       "      <td>TCS</td>\n",
       "      <td>NaN</td>\n",
       "      <td>6000.0</td>\n",
       "      <td>Chennai</td>\n",
       "      <td>India</td>\n",
       "      <td>1</td>\n",
       "    </tr>\n",
       "    <tr>\n",
       "      <th>7</th>\n",
       "      <td>Infosys</td>\n",
       "      <td>23.0</td>\n",
       "      <td>7000.0</td>\n",
       "      <td>Mumbai</td>\n",
       "      <td>India</td>\n",
       "      <td>1</td>\n",
       "    </tr>\n",
       "    <tr>\n",
       "      <th>8</th>\n",
       "      <td>TCS</td>\n",
       "      <td>34.0</td>\n",
       "      <td>8000.0</td>\n",
       "      <td>Calcutta</td>\n",
       "      <td>India</td>\n",
       "      <td>1</td>\n",
       "    </tr>\n",
       "    <tr>\n",
       "      <th>9</th>\n",
       "      <td>CTS</td>\n",
       "      <td>45.0</td>\n",
       "      <td>9000.0</td>\n",
       "      <td>Delhi</td>\n",
       "      <td>India</td>\n",
       "      <td>0</td>\n",
       "    </tr>\n",
       "  </tbody>\n",
       "</table>\n",
       "</div>"
      ],
      "text/plain": [
       "   Company   Age  Salary     Place Country  Gender\n",
       "0      TCS  20.0     NaN   Chennai   India       0\n",
       "1  Infosys  30.0     NaN    Mumbai   India       0\n",
       "2      TCS  35.0  2300.0  Calcutta   India       0\n",
       "3  Infosys  40.0  3000.0     Delhi   India       0\n",
       "4      TCS  23.0  4000.0    Mumbai   India       0\n",
       "5  Infosys   NaN  5000.0  Calcutta   India       0\n",
       "6      TCS   NaN  6000.0   Chennai   India       1\n",
       "7  Infosys  23.0  7000.0    Mumbai   India       1\n",
       "8      TCS  34.0  8000.0  Calcutta   India       1\n",
       "9      CTS  45.0  9000.0     Delhi   India       0"
      ]
     },
     "execution_count": 29,
     "metadata": {},
     "output_type": "execute_result"
    }
   ],
   "source": [
    "## Display the first few rows of the dataset\n",
    "df.head(10)"
   ]
  },
  {
   "cell_type": "code",
   "execution_count": 30,
   "id": "2f56ff8b-fa5d-4800-84ff-4227adc8215c",
   "metadata": {},
   "outputs": [
    {
     "data": {
      "text/html": [
       "<div>\n",
       "<style scoped>\n",
       "    .dataframe tbody tr th:only-of-type {\n",
       "        vertical-align: middle;\n",
       "    }\n",
       "\n",
       "    .dataframe tbody tr th {\n",
       "        vertical-align: top;\n",
       "    }\n",
       "\n",
       "    .dataframe thead th {\n",
       "        text-align: right;\n",
       "    }\n",
       "</style>\n",
       "<table border=\"1\" class=\"dataframe\">\n",
       "  <thead>\n",
       "    <tr style=\"text-align: right;\">\n",
       "      <th></th>\n",
       "      <th>Company</th>\n",
       "      <th>Age</th>\n",
       "      <th>Salary</th>\n",
       "      <th>Place</th>\n",
       "      <th>Country</th>\n",
       "      <th>Gender</th>\n",
       "    </tr>\n",
       "  </thead>\n",
       "  <tbody>\n",
       "    <tr>\n",
       "      <th>138</th>\n",
       "      <td>CTS</td>\n",
       "      <td>44.0</td>\n",
       "      <td>3033.0</td>\n",
       "      <td>Cochin</td>\n",
       "      <td>India</td>\n",
       "      <td>0</td>\n",
       "    </tr>\n",
       "    <tr>\n",
       "      <th>139</th>\n",
       "      <td>Congnizant</td>\n",
       "      <td>22.0</td>\n",
       "      <td>2934.0</td>\n",
       "      <td>Noida</td>\n",
       "      <td>India</td>\n",
       "      <td>0</td>\n",
       "    </tr>\n",
       "    <tr>\n",
       "      <th>140</th>\n",
       "      <td>Infosys</td>\n",
       "      <td>44.0</td>\n",
       "      <td>4034.0</td>\n",
       "      <td>Hyderabad</td>\n",
       "      <td>India</td>\n",
       "      <td>0</td>\n",
       "    </tr>\n",
       "    <tr>\n",
       "      <th>141</th>\n",
       "      <td>TCS</td>\n",
       "      <td>33.0</td>\n",
       "      <td>5034.0</td>\n",
       "      <td>Calcutta</td>\n",
       "      <td>India</td>\n",
       "      <td>0</td>\n",
       "    </tr>\n",
       "    <tr>\n",
       "      <th>142</th>\n",
       "      <td>Infosys Pvt Lmt</td>\n",
       "      <td>22.0</td>\n",
       "      <td>8202.0</td>\n",
       "      <td>Mumbai</td>\n",
       "      <td>India</td>\n",
       "      <td>0</td>\n",
       "    </tr>\n",
       "    <tr>\n",
       "      <th>143</th>\n",
       "      <td>TCS</td>\n",
       "      <td>33.0</td>\n",
       "      <td>9024.0</td>\n",
       "      <td>Calcutta</td>\n",
       "      <td>India</td>\n",
       "      <td>1</td>\n",
       "    </tr>\n",
       "    <tr>\n",
       "      <th>144</th>\n",
       "      <td>Infosys</td>\n",
       "      <td>22.0</td>\n",
       "      <td>8787.0</td>\n",
       "      <td>Calcutta</td>\n",
       "      <td>India</td>\n",
       "      <td>1</td>\n",
       "    </tr>\n",
       "    <tr>\n",
       "      <th>145</th>\n",
       "      <td>Infosys</td>\n",
       "      <td>44.0</td>\n",
       "      <td>4034.0</td>\n",
       "      <td>Delhi</td>\n",
       "      <td>India</td>\n",
       "      <td>1</td>\n",
       "    </tr>\n",
       "    <tr>\n",
       "      <th>146</th>\n",
       "      <td>TCS</td>\n",
       "      <td>33.0</td>\n",
       "      <td>5034.0</td>\n",
       "      <td>Mumbai</td>\n",
       "      <td>India</td>\n",
       "      <td>1</td>\n",
       "    </tr>\n",
       "    <tr>\n",
       "      <th>147</th>\n",
       "      <td>Infosys</td>\n",
       "      <td>22.0</td>\n",
       "      <td>8202.0</td>\n",
       "      <td>Cochin</td>\n",
       "      <td>India</td>\n",
       "      <td>0</td>\n",
       "    </tr>\n",
       "  </tbody>\n",
       "</table>\n",
       "</div>"
      ],
      "text/plain": [
       "             Company   Age  Salary      Place Country  Gender\n",
       "138              CTS  44.0  3033.0     Cochin   India       0\n",
       "139       Congnizant  22.0  2934.0      Noida   India       0\n",
       "140          Infosys  44.0  4034.0  Hyderabad   India       0\n",
       "141              TCS  33.0  5034.0   Calcutta   India       0\n",
       "142  Infosys Pvt Lmt  22.0  8202.0     Mumbai   India       0\n",
       "143              TCS  33.0  9024.0   Calcutta   India       1\n",
       "144          Infosys  22.0  8787.0   Calcutta   India       1\n",
       "145          Infosys  44.0  4034.0      Delhi   India       1\n",
       "146              TCS  33.0  5034.0     Mumbai   India       1\n",
       "147          Infosys  22.0  8202.0     Cochin   India       0"
      ]
     },
     "execution_count": 30,
     "metadata": {},
     "output_type": "execute_result"
    }
   ],
   "source": [
    "## Display the last few rows of the dataset\n",
    "df.tail(10)"
   ]
  },
  {
   "cell_type": "code",
   "execution_count": 31,
   "id": "ae1d32d5-c970-48f5-bb86-e091ddb52505",
   "metadata": {},
   "outputs": [
    {
     "name": "stdout",
     "output_type": "stream",
     "text": [
      "              Age       Salary      Gender\n",
      "count  130.000000   124.000000  148.000000\n",
      "mean    30.484615  5312.467742    0.222973\n",
      "std     11.096640  2573.764683    0.417654\n",
      "min      0.000000  1089.000000    0.000000\n",
      "25%     22.000000  3030.000000    0.000000\n",
      "50%     32.500000  5000.000000    0.000000\n",
      "75%     37.750000  8000.000000    0.000000\n",
      "max     54.000000  9876.000000    1.000000\n"
     ]
    }
   ],
   "source": [
    "# Display summary statistics\n",
    "print(df.describe())\n"
   ]
  },
  {
   "cell_type": "code",
   "execution_count": 32,
   "id": "b014b68c-a238-49ab-ba73-5ce2b5169746",
   "metadata": {},
   "outputs": [
    {
     "data": {
      "text/plain": [
       "Index(['Company', 'Age', 'Salary', 'Place', 'Country', 'Gender'], dtype='object')"
      ]
     },
     "execution_count": 32,
     "metadata": {},
     "output_type": "execute_result"
    }
   ],
   "source": [
    "df.columns"
   ]
  },
  {
   "cell_type": "code",
   "execution_count": 50,
   "id": "55e9dd30-3290-40b3-823d-88526f00a7e1",
   "metadata": {},
   "outputs": [
    {
     "name": "stdout",
     "output_type": "stream",
     "text": [
      "Column: COMPANY\n",
      "Unique values: ['TCS' 'Infosys' 'CTS' nan 'Tata Consultancy Services' 'Congnizant'\n",
      " 'Infosys Pvt Lmt'], Length: 7\n",
      "\n",
      "Column: AGE\n",
      "Unique values: [20. 30. 35. 40. 23. nan 34. 45. 18. 22. 32. 37. 50. 21. 46. 36. 26. 41.\n",
      " 24. 25. 43. 19. 38. 51. 31. 44. 33. 17.  0. 54.], Length: 30\n",
      "\n",
      "Column: SALARY\n",
      "Unique values: [  nan 2300. 3000. 4000. 5000. 6000. 7000. 8000. 9000. 1089. 1234. 3030.\n",
      " 3045. 3184. 4824. 5835. 7084. 8943. 8345. 9284. 9876. 2034. 7654. 2934.\n",
      " 4034. 5034. 8202. 9024. 4345. 6544. 6543. 3234. 4324. 5435. 5555. 8787.\n",
      " 3454. 5654. 5009. 5098. 3033.], Length: 41\n",
      "\n",
      "Column: PLACE\n",
      "Unique values: ['Chennai' 'Mumbai' 'Calcutta' 'Delhi' 'Podicherry' 'Cochin' nan 'Noida'\n",
      " 'Hyderabad' 'Bhopal' 'Nagpur' 'Pune'], Length: 12\n",
      "\n",
      "Column: COUNTRY\n",
      "Unique values: ['India'], Length: 1\n",
      "\n",
      "Column: GENDER\n",
      "Unique values: [ 0. nan], Length: 2\n",
      "\n"
     ]
    }
   ],
   "source": [
    "# Display unique values and their lengths for each column\n",
    "for column in df.columns:\n",
    "    unique_values = df[column].unique()\n",
    "    print(f\"Column: {column}\")\n",
    "    print(f\"Unique values: {unique_values}, Length: {len(unique_values)}\")\n",
    "    print()"
   ]
  },
  {
   "cell_type": "code",
   "execution_count": 51,
   "id": "661fdf9d-5f66-4b59-9c6b-18e6c467c933",
   "metadata": {},
   "outputs": [
    {
     "data": {
      "text/html": [
       "<div>\n",
       "<style scoped>\n",
       "    .dataframe tbody tr th:only-of-type {\n",
       "        vertical-align: middle;\n",
       "    }\n",
       "\n",
       "    .dataframe tbody tr th {\n",
       "        vertical-align: top;\n",
       "    }\n",
       "\n",
       "    .dataframe thead th {\n",
       "        text-align: right;\n",
       "    }\n",
       "</style>\n",
       "<table border=\"1\" class=\"dataframe\">\n",
       "  <thead>\n",
       "    <tr style=\"text-align: right;\">\n",
       "      <th></th>\n",
       "      <th>AGE</th>\n",
       "      <th>SALARY</th>\n",
       "      <th>GENDER</th>\n",
       "    </tr>\n",
       "  </thead>\n",
       "  <tbody>\n",
       "    <tr>\n",
       "      <th>count</th>\n",
       "      <td>127.000000</td>\n",
       "      <td>121.000000</td>\n",
       "      <td>112.0</td>\n",
       "    </tr>\n",
       "    <tr>\n",
       "      <th>mean</th>\n",
       "      <td>30.527559</td>\n",
       "      <td>5283.471074</td>\n",
       "      <td>0.0</td>\n",
       "    </tr>\n",
       "    <tr>\n",
       "      <th>std</th>\n",
       "      <td>11.114717</td>\n",
       "      <td>2585.373600</td>\n",
       "      <td>0.0</td>\n",
       "    </tr>\n",
       "    <tr>\n",
       "      <th>min</th>\n",
       "      <td>0.000000</td>\n",
       "      <td>1089.000000</td>\n",
       "      <td>0.0</td>\n",
       "    </tr>\n",
       "    <tr>\n",
       "      <th>25%</th>\n",
       "      <td>22.000000</td>\n",
       "      <td>3030.000000</td>\n",
       "      <td>0.0</td>\n",
       "    </tr>\n",
       "    <tr>\n",
       "      <th>50%</th>\n",
       "      <td>33.000000</td>\n",
       "      <td>5000.000000</td>\n",
       "      <td>0.0</td>\n",
       "    </tr>\n",
       "    <tr>\n",
       "      <th>75%</th>\n",
       "      <td>37.500000</td>\n",
       "      <td>8000.000000</td>\n",
       "      <td>0.0</td>\n",
       "    </tr>\n",
       "    <tr>\n",
       "      <th>max</th>\n",
       "      <td>54.000000</td>\n",
       "      <td>9876.000000</td>\n",
       "      <td>0.0</td>\n",
       "    </tr>\n",
       "  </tbody>\n",
       "</table>\n",
       "</div>"
      ],
      "text/plain": [
       "              AGE       SALARY  GENDER\n",
       "count  127.000000   121.000000   112.0\n",
       "mean    30.527559  5283.471074     0.0\n",
       "std     11.114717  2585.373600     0.0\n",
       "min      0.000000  1089.000000     0.0\n",
       "25%     22.000000  3030.000000     0.0\n",
       "50%     33.000000  5000.000000     0.0\n",
       "75%     37.500000  8000.000000     0.0\n",
       "max     54.000000  9876.000000     0.0"
      ]
     },
     "execution_count": 51,
     "metadata": {},
     "output_type": "execute_result"
    }
   ],
   "source": [
    "## Perform statistical analysis and renaming of the columns\n",
    "df.describe()"
   ]
  },
  {
   "cell_type": "code",
   "execution_count": 49,
   "id": "83f7ba44-b666-48cd-9b4b-a3be9961eded",
   "metadata": {},
   "outputs": [
    {
     "data": {
      "text/html": [
       "<div>\n",
       "<style scoped>\n",
       "    .dataframe tbody tr th:only-of-type {\n",
       "        vertical-align: middle;\n",
       "    }\n",
       "\n",
       "    .dataframe tbody tr th {\n",
       "        vertical-align: top;\n",
       "    }\n",
       "\n",
       "    .dataframe thead th {\n",
       "        text-align: right;\n",
       "    }\n",
       "</style>\n",
       "<table border=\"1\" class=\"dataframe\">\n",
       "  <thead>\n",
       "    <tr style=\"text-align: right;\">\n",
       "      <th></th>\n",
       "      <th>COMPANY</th>\n",
       "      <th>AGE</th>\n",
       "      <th>SALARY</th>\n",
       "      <th>PLACE</th>\n",
       "      <th>COUNTRY</th>\n",
       "      <th>GENDER</th>\n",
       "    </tr>\n",
       "  </thead>\n",
       "  <tbody>\n",
       "    <tr>\n",
       "      <th>0</th>\n",
       "      <td>TCS</td>\n",
       "      <td>20.0</td>\n",
       "      <td>NaN</td>\n",
       "      <td>Chennai</td>\n",
       "      <td>India</td>\n",
       "      <td>0.0</td>\n",
       "    </tr>\n",
       "    <tr>\n",
       "      <th>1</th>\n",
       "      <td>Infosys</td>\n",
       "      <td>30.0</td>\n",
       "      <td>NaN</td>\n",
       "      <td>Mumbai</td>\n",
       "      <td>India</td>\n",
       "      <td>0.0</td>\n",
       "    </tr>\n",
       "    <tr>\n",
       "      <th>2</th>\n",
       "      <td>TCS</td>\n",
       "      <td>35.0</td>\n",
       "      <td>2300.0</td>\n",
       "      <td>Calcutta</td>\n",
       "      <td>India</td>\n",
       "      <td>0.0</td>\n",
       "    </tr>\n",
       "    <tr>\n",
       "      <th>3</th>\n",
       "      <td>Infosys</td>\n",
       "      <td>40.0</td>\n",
       "      <td>3000.0</td>\n",
       "      <td>Delhi</td>\n",
       "      <td>India</td>\n",
       "      <td>0.0</td>\n",
       "    </tr>\n",
       "    <tr>\n",
       "      <th>4</th>\n",
       "      <td>TCS</td>\n",
       "      <td>23.0</td>\n",
       "      <td>4000.0</td>\n",
       "      <td>Mumbai</td>\n",
       "      <td>India</td>\n",
       "      <td>0.0</td>\n",
       "    </tr>\n",
       "    <tr>\n",
       "      <th>5</th>\n",
       "      <td>Infosys</td>\n",
       "      <td>NaN</td>\n",
       "      <td>5000.0</td>\n",
       "      <td>Calcutta</td>\n",
       "      <td>India</td>\n",
       "      <td>0.0</td>\n",
       "    </tr>\n",
       "    <tr>\n",
       "      <th>6</th>\n",
       "      <td>TCS</td>\n",
       "      <td>NaN</td>\n",
       "      <td>6000.0</td>\n",
       "      <td>Chennai</td>\n",
       "      <td>India</td>\n",
       "      <td>NaN</td>\n",
       "    </tr>\n",
       "    <tr>\n",
       "      <th>7</th>\n",
       "      <td>Infosys</td>\n",
       "      <td>23.0</td>\n",
       "      <td>7000.0</td>\n",
       "      <td>Mumbai</td>\n",
       "      <td>India</td>\n",
       "      <td>NaN</td>\n",
       "    </tr>\n",
       "    <tr>\n",
       "      <th>8</th>\n",
       "      <td>TCS</td>\n",
       "      <td>34.0</td>\n",
       "      <td>8000.0</td>\n",
       "      <td>Calcutta</td>\n",
       "      <td>India</td>\n",
       "      <td>NaN</td>\n",
       "    </tr>\n",
       "    <tr>\n",
       "      <th>9</th>\n",
       "      <td>CTS</td>\n",
       "      <td>45.0</td>\n",
       "      <td>9000.0</td>\n",
       "      <td>Delhi</td>\n",
       "      <td>India</td>\n",
       "      <td>0.0</td>\n",
       "    </tr>\n",
       "  </tbody>\n",
       "</table>\n",
       "</div>"
      ],
      "text/plain": [
       "   COMPANY   AGE  SALARY     PLACE COUNTRY  GENDER\n",
       "0      TCS  20.0     NaN   Chennai   India     0.0\n",
       "1  Infosys  30.0     NaN    Mumbai   India     0.0\n",
       "2      TCS  35.0  2300.0  Calcutta   India     0.0\n",
       "3  Infosys  40.0  3000.0     Delhi   India     0.0\n",
       "4      TCS  23.0  4000.0    Mumbai   India     0.0\n",
       "5  Infosys   NaN  5000.0  Calcutta   India     0.0\n",
       "6      TCS   NaN  6000.0   Chennai   India     NaN\n",
       "7  Infosys  23.0  7000.0    Mumbai   India     NaN\n",
       "8      TCS  34.0  8000.0  Calcutta   India     NaN\n",
       "9      CTS  45.0  9000.0     Delhi   India     0.0"
      ]
     },
     "execution_count": 49,
     "metadata": {},
     "output_type": "execute_result"
    }
   ],
   "source": [
    "\n",
    "df.columns = [col.strip().upper().replace(' ', '_') for col in df.columns]\n",
    "df.head(10)"
   ]
  },
  {
   "cell_type": "markdown",
   "id": "2b87bf68-efab-46d2-bf46-80eabccf57d5",
   "metadata": {},
   "source": [
    "<h3  style=\"color:green;\">2.Data Cleaning </h3>"
   ]
  },
  {
   "cell_type": "code",
   "execution_count": 35,
   "id": "2600e0f8-fdfd-480f-85e0-8a983b55787d",
   "metadata": {},
   "outputs": [
    {
     "name": "stdout",
     "output_type": "stream",
     "text": [
      "missing values\n",
      " COMPANY     8\n",
      "AGE        18\n",
      "SALARY     24\n",
      "PLACE      14\n",
      "COUNTRY     0\n",
      "GENDER      0\n",
      "dtype: int64\n"
     ]
    }
   ],
   "source": [
    "## treat missing and inappropriate values\n",
    "missing_values = df.isnull().sum()\n",
    "print('missing values\\n',missing_values)"
   ]
  },
  {
   "cell_type": "code",
   "execution_count": 36,
   "id": "fc4c1b32-373a-431b-9902-6bc01a52333d",
   "metadata": {},
   "outputs": [],
   "source": [
    "## Remove all duplicate rows\n",
    "df.drop_duplicates(inplace=True)"
   ]
  },
  {
   "cell_type": "code",
   "execution_count": 37,
   "id": "f3af1b98-c5d1-4328-941e-3b9358bc6379",
   "metadata": {},
   "outputs": [
    {
     "name": "stdout",
     "output_type": "stream",
     "text": [
      "             COMPANY   AGE  SALARY     PLACE COUNTRY  GENDER\n",
      "0                TCS  20.0     NaN   Chennai   India       0\n",
      "1            Infosys  30.0     NaN    Mumbai   India       0\n",
      "2                TCS  35.0  2300.0  Calcutta   India       0\n",
      "3            Infosys  40.0  3000.0     Delhi   India       0\n",
      "4                TCS  23.0  4000.0    Mumbai   India       0\n",
      "..               ...   ...     ...       ...     ...     ...\n",
      "142  Infosys Pvt Lmt  22.0  8202.0    Mumbai   India       0\n",
      "143              TCS  33.0  9024.0  Calcutta   India       1\n",
      "145          Infosys  44.0  4034.0     Delhi   India       1\n",
      "146              TCS  33.0  5034.0    Mumbai   India       1\n",
      "147          Infosys  22.0  8202.0    Cochin   India       0\n",
      "\n",
      "[144 rows x 6 columns]\n"
     ]
    }
   ],
   "source": [
    "print(df)"
   ]
  },
  {
   "cell_type": "code",
   "execution_count": 38,
   "id": "722960ef-7d06-4ef8-a8ad-6903b6e3c015",
   "metadata": {},
   "outputs": [
    {
     "data": {
      "text/plain": [
       "(144, 6)"
      ]
     },
     "execution_count": 38,
     "metadata": {},
     "output_type": "execute_result"
    }
   ],
   "source": [
    "df.shape"
   ]
  },
  {
   "cell_type": "code",
   "execution_count": 61,
   "id": "2ef0de25-ff0d-426a-9e63-0c25268049f3",
   "metadata": {},
   "outputs": [
    {
     "name": "stdout",
     "output_type": "stream",
     "text": [
      "             COMPANY   AGE  SALARY     PLACE COUNTRY  GENDER\n",
      "0                TCS  20.0     NaN   Chennai   India     0.0\n",
      "1            Infosys  30.0     NaN    Mumbai   India     0.0\n",
      "2                TCS  35.0  2300.0  Calcutta   India     0.0\n",
      "3            Infosys  40.0  3000.0     Delhi   India     0.0\n",
      "4                TCS  23.0  4000.0    Mumbai   India     0.0\n",
      "..               ...   ...     ...       ...     ...     ...\n",
      "142  Infosys Pvt Lmt  22.0  8202.0    Mumbai   India     0.0\n",
      "143              TCS  33.0  9024.0  Calcutta   India     NaN\n",
      "145          Infosys  44.0  4034.0     Delhi   India     NaN\n",
      "146              TCS  33.0  5034.0    Mumbai   India     NaN\n",
      "147          Infosys  22.0  8202.0    Cochin   India     0.0\n",
      "\n",
      "[144 rows x 6 columns]\n"
     ]
    }
   ],
   "source": [
    "# Replace 0 in 'AGE' with NaN\n",
    "df['AGE'] = df['AGE'].replace(0, pd.NA)\n",
    "print(df)"
   ]
  },
  {
   "cell_type": "code",
   "execution_count": 68,
   "id": "68526834-940a-4171-8bb0-5d7c67d23ad0",
   "metadata": {},
   "outputs": [
    {
     "name": "stdout",
     "output_type": "stream",
     "text": [
      "   COMPANY   AGE       SALARY     PLACE COUNTRY  GENDER\n",
      "0      TCS  20.0  5283.471074   Chennai   India     0.0\n",
      "1  Infosys  30.0  5283.471074    Mumbai   India     0.0\n",
      "2      TCS  35.0  2300.000000  Calcutta   India     0.0\n",
      "3  Infosys  40.0  3000.000000     Delhi   India     0.0\n",
      "4      TCS  23.0  4000.000000    Mumbai   India     0.0\n"
     ]
    }
   ],
   "source": [
    "# Handle missing values \n",
    "numeric_col = df.select_dtypes(include=['number']).columns\n",
    "df[numeric_columns] = df[numeric_col].fillna(df[numeric_col].mean())\n",
    "\n",
    "# Display the first few rows to check\n",
    "print(df.head())"
   ]
  },
  {
   "cell_type": "code",
   "execution_count": 78,
   "id": "ea913690-cb90-4b1f-9fd3-c39bab881a70",
   "metadata": {},
   "outputs": [
    {
     "name": "stdout",
     "output_type": "stream",
     "text": [
      "             COMPANY   AGE       SALARY     PLACE COUNTRY  GENDER   z_score\n",
      "0                TCS  20.0  5283.471074   Chennai   India     0.0 -1.462272\n",
      "1            Infosys  30.0  5283.471074    Mumbai   India     0.0 -0.247894\n",
      "2                TCS  35.0  2300.000000  Calcutta   India     0.0  0.359295\n",
      "3            Infosys  40.0  3000.000000     Delhi   India     0.0  0.966484\n",
      "4                TCS  23.0  4000.000000    Mumbai   India     0.0 -1.097958\n",
      "..               ...   ...          ...       ...     ...     ...       ...\n",
      "142  Infosys Pvt Lmt  22.0  8202.000000    Mumbai   India     0.0 -1.219396\n",
      "143              TCS  33.0  9024.000000  Calcutta   India     0.0  0.116420\n",
      "145          Infosys  44.0  4034.000000     Delhi   India     0.0  1.452236\n",
      "146              TCS  33.0  5034.000000    Mumbai   India     0.0  0.116420\n",
      "147          Infosys  22.0  8202.000000    Cochin   India     0.0 -1.219396\n",
      "\n",
      "[144 rows x 7 columns]\n"
     ]
    }
   ],
   "source": [
    "mean_age = df['AGE'].mean()\n",
    "std_dev_age = df['AGE'].std()\n",
    "df['z_score'] = (df['AGE'] - mean_age) / std_dev_age\n",
    "\n",
    "# Filter data to remove outliers based on Z-score method\n",
    "data_zscore = df[(df['z_score'] > -3) & (df['z_score'] < 3)]\n",
    "print(data_zscore)"
   ]
  },
  {
   "cell_type": "markdown",
   "id": "d69572ca-d7a9-4b3b-b71a-a296cafd0732",
   "metadata": {},
   "source": [
    "<h3  style=\"color:green;\">Data Analysis <h3>"
   ]
  },
  {
   "cell_type": "code",
   "execution_count": 81,
   "id": "0fe16013-f9c6-45d9-858b-b0a213d512ce",
   "metadata": {},
   "outputs": [
    {
     "name": "stdout",
     "output_type": "stream",
     "text": [
      "     COMPANY   AGE  SALARY      PLACE COUNTRY  GENDER   z_score\n",
      "21   Infosys  50.0  3184.0      Delhi   India     0.0  2.180863\n",
      "32   Infosys  45.0  4034.0   Calcutta   India     0.0  1.573674\n",
      "39   Infosys  41.0  3000.0     Mumbai   India     0.0  1.087922\n",
      "50   Infosys  41.0  3000.0    Chennai   India     0.0  1.087922\n",
      "57   Infosys  51.0  3184.0  Hyderabad   India     0.0  2.302300\n",
      "68   Infosys  43.0  4034.0     Mumbai   India     0.0  1.330798\n",
      "75   Infosys  44.0  3000.0     Cochin   India     0.0  1.452236\n",
      "86   Infosys  41.0  3000.0      Delhi   India     0.0  1.087922\n",
      "93   Infosys  54.0  3184.0     Mumbai   India     0.0  2.666614\n",
      "104  Infosys  44.0  4034.0      Delhi   India     0.0  1.452236\n",
      "122  Infosys  44.0  3234.0     Mumbai   India     0.0  1.452236\n",
      "129  Infosys  50.0  3184.0   Calcutta   India     0.0  2.180863\n",
      "138      CTS  44.0  3033.0     Cochin   India     0.0  1.452236\n",
      "140  Infosys  44.0  4034.0  Hyderabad   India     0.0  1.452236\n",
      "145  Infosys  44.0  4034.0      Delhi   India     0.0  1.452236\n"
     ]
    }
   ],
   "source": [
    "# Filter data\n",
    "filtered_data = df[(df['AGE'] > 40) & (df['SALARY'] < 5000)]\n",
    "print(filtered_data)\n"
   ]
  },
  {
   "cell_type": "code",
   "execution_count": 82,
   "id": "5078a8de-760a-44bc-bd34-3d365e584316",
   "metadata": {},
   "outputs": [
    {
     "data": {
      "image/png": "[encoded data removed]",
      "text/plain": [
       "<Figure size 640x480 with 1 Axes>"
      ]
     },
     "metadata": {},
     "output_type": "display_data"
    }
   ],
   "source": [
    "# Plotting age vs salary\n",
    "plt.scatter(filtered_data['AGE'], filtered_data['SALARY'])\n",
    "plt.xlabel('AGE')\n",
    "plt.ylabel('SALARY')\n",
    "plt.title('Age vs Salary')\n",
    "plt.show()"
   ]
  },
  {
   "cell_type": "code",
   "execution_count": 87,
   "id": "ff4a09e1-378d-428f-95ab-199dbbfb3100",
   "metadata": {},
   "outputs": [
    {
     "data": {
      "text/plain": [
       "PLACE\n",
       "Mumbai        34\n",
       "Calcutta      32\n",
       "Chennai       14\n",
       "Delhi         14\n",
       "Cochin        13\n",
       "Noida          8\n",
       "Hyderabad      8\n",
       "Podicherry     3\n",
       "Pune           2\n",
       "Bhopal         1\n",
       "Nagpur         1\n",
       "Name: count, dtype: int64"
      ]
     },
     "execution_count": 87,
     "metadata": {},
     "output_type": "execute_result"
    }
   ],
   "source": [
    "# Counting people from each place\n",
    "count_place=df['PLACE'].value_counts()\n",
    "count_place"
   ]
  },
  {
   "cell_type": "code",
   "execution_count": 90,
   "id": "d9a4ab84-d1b1-4e9e-8aa8-40c3be9c17e8",
   "metadata": {},
   "outputs": [
    {
     "data": {
      "image/png": "[encoded data removed]",
      "text/plain": [
       "<Figure size 640x480 with 1 Axes>"
      ]
     },
     "metadata": {},
     "output_type": "display_data"
    }
   ],
   "source": [
    "# Visual representation\n",
    "count_place.plot(kind='bar',title='Number of People by Place')\n",
    "plt.xlabel('Place')\n",
    "plt.ylabel('Count')\n",
    "plt.show()"
   ]
  },
  {
   "cell_type": "markdown",
   "id": "b647f956-41f7-4df5-a1e3-66165fa4da1a",
   "metadata": {},
   "source": [
    "<h3  style=\"color:green;\">Data Encoding</h3>"
   ]
  },
  {
   "cell_type": "code",
   "execution_count": 95,
   "id": "9b4ba484-bc09-4cb9-93b6-6114d3237ce3",
   "metadata": {},
   "outputs": [
    {
     "name": "stdout",
     "output_type": "stream",
     "text": [
      "      AGE       SALARY  GENDER   z_score  PLACE_Bhopal  PLACE_Calcutta  \\\n",
      "0    20.0  5283.471074     0.0 -1.462272         False           False   \n",
      "1    30.0  5283.471074     0.0 -0.247894         False           False   \n",
      "2    35.0  2300.000000     0.0  0.359295         False            True   \n",
      "3    40.0  3000.000000     0.0  0.966484         False           False   \n",
      "4    23.0  4000.000000     0.0 -1.097958         False           False   \n",
      "..    ...          ...     ...       ...           ...             ...   \n",
      "142  22.0  8202.000000     0.0 -1.219396         False           False   \n",
      "143  33.0  9024.000000     0.0  0.116420         False            True   \n",
      "145  44.0  4034.000000     0.0  1.452236         False           False   \n",
      "146  33.0  5034.000000     0.0  0.116420         False           False   \n",
      "147  22.0  8202.000000     0.0 -1.219396         False           False   \n",
      "\n",
      "     PLACE_Chennai  PLACE_Cochin  PLACE_Delhi  PLACE_Hyderabad  ...  \\\n",
      "0             True         False        False            False  ...   \n",
      "1            False         False        False            False  ...   \n",
      "2            False         False        False            False  ...   \n",
      "3            False         False         True            False  ...   \n",
      "4            False         False        False            False  ...   \n",
      "..             ...           ...          ...              ...  ...   \n",
      "142          False         False        False            False  ...   \n",
      "143          False         False        False            False  ...   \n",
      "145          False         False         True            False  ...   \n",
      "146          False         False        False            False  ...   \n",
      "147          False          True        False            False  ...   \n",
      "\n",
      "     PLACE_Noida  PLACE_Podicherry  PLACE_Pune  COUNTRY_India  COMPANY_CTS  \\\n",
      "0          False             False       False           True        False   \n",
      "1          False             False       False           True        False   \n",
      "2          False             False       False           True        False   \n",
      "3          False             False       False           True        False   \n",
      "4          False             False       False           True        False   \n",
      "..           ...               ...         ...            ...          ...   \n",
      "142        False             False       False           True        False   \n",
      "143        False             False       False           True        False   \n",
      "145        False             False       False           True        False   \n",
      "146        False             False       False           True        False   \n",
      "147        False             False       False           True        False   \n",
      "\n",
      "     COMPANY_Congnizant  COMPANY_Infosys  COMPANY_Infosys Pvt Lmt  \\\n",
      "0                 False            False                    False   \n",
      "1                 False             True                    False   \n",
      "2                 False            False                    False   \n",
      "3                 False             True                    False   \n",
      "4                 False            False                    False   \n",
      "..                  ...              ...                      ...   \n",
      "142               False            False                     True   \n",
      "143               False            False                    False   \n",
      "145               False             True                    False   \n",
      "146               False            False                    False   \n",
      "147               False             True                    False   \n",
      "\n",
      "     COMPANY_TCS  COMPANY_Tata Consultancy Services  \n",
      "0           True                              False  \n",
      "1          False                              False  \n",
      "2           True                              False  \n",
      "3          False                              False  \n",
      "4           True                              False  \n",
      "..           ...                                ...  \n",
      "142        False                              False  \n",
      "143         True                              False  \n",
      "145        False                              False  \n",
      "146         True                              False  \n",
      "147        False                              False  \n",
      "\n",
      "[144 rows x 22 columns]\n"
     ]
    }
   ],
   "source": [
    "# Example of one-hot encoding for categorical variable 'place'\n",
    "encoded_df = pd.get_dummies(df, columns=['PLACE','COUNTRY','COMPANY'])\n",
    "print( encoded_df)"
   ]
  },
  {
   "cell_type": "code",
   "execution_count": 101,
   "id": "b01a3a1b-9b3f-4893-b10d-d8453e3709b0",
   "metadata": {},
   "outputs": [
    {
     "name": "stdout",
     "output_type": "stream",
     "text": [
      "Original DataFrame:\n",
      "   COMPANY   AGE       SALARY     PLACE COUNTRY  GENDER   z_score\n",
      "0      TCS  20.0  5283.471074   Chennai   India     0.0 -1.462272\n",
      "1  Infosys  30.0  5283.471074    Mumbai   India     0.0 -0.247894\n",
      "2      TCS  35.0  2300.000000  Calcutta   India     0.0  0.359295\n",
      "3  Infosys  40.0  3000.000000     Delhi   India     0.0  0.966484\n",
      "4      TCS  23.0  4000.000000    Mumbai   India     0.0 -1.097958\n"
     ]
    }
   ],
   "source": [
    "import pandas as pd\n",
    "from sklearn.preprocessing import LabelEncoder\n",
    "\n",
    "\n",
    "# Display the first few rows of the original DataFrame\n",
    "print(\"Original DataFrame:\")\n",
    "print(df.head())\n"
   ]
  },
  {
   "cell_type": "code",
   "execution_count": 102,
   "id": "e3489b39-7486-4896-866c-66e4181a08c7",
   "metadata": {},
   "outputs": [
    {
     "name": "stdout",
     "output_type": "stream",
     "text": [
      "\n",
      "Encoded DataFrame with One-Hot Encoding:\n",
      "    AGE       SALARY  GENDER   z_score  COMPANY_CTS  COMPANY_Congnizant  \\\n",
      "0  20.0  5283.471074     0.0 -1.462272        False               False   \n",
      "1  30.0  5283.471074     0.0 -0.247894        False               False   \n",
      "2  35.0  2300.000000     0.0  0.359295        False               False   \n",
      "3  40.0  3000.000000     0.0  0.966484        False               False   \n",
      "4  23.0  4000.000000     0.0 -1.097958        False               False   \n",
      "\n",
      "   COMPANY_Infosys  COMPANY_Infosys Pvt Lmt  COMPANY_TCS  \\\n",
      "0            False                    False         True   \n",
      "1             True                    False        False   \n",
      "2            False                    False         True   \n",
      "3             True                    False        False   \n",
      "4            False                    False         True   \n",
      "\n",
      "   COMPANY_Tata Consultancy Services  ...  PLACE_Chennai  PLACE_Cochin  \\\n",
      "0                              False  ...           True         False   \n",
      "1                              False  ...          False         False   \n",
      "2                              False  ...          False         False   \n",
      "3                              False  ...          False         False   \n",
      "4                              False  ...          False         False   \n",
      "\n",
      "   PLACE_Delhi  PLACE_Hyderabad  PLACE_Mumbai  PLACE_Nagpur  PLACE_Noida  \\\n",
      "0        False            False         False         False        False   \n",
      "1        False            False          True         False        False   \n",
      "2        False            False         False         False        False   \n",
      "3         True            False         False         False        False   \n",
      "4        False            False          True         False        False   \n",
      "\n",
      "   PLACE_Podicherry  PLACE_Pune  COUNTRY_India  \n",
      "0             False       False           True  \n",
      "1             False       False           True  \n",
      "2             False       False           True  \n",
      "3             False       False           True  \n",
      "4             False       False           True  \n",
      "\n",
      "[5 rows x 22 columns]\n"
     ]
    }
   ],
   "source": [
    "\n",
    "#One-Hot Encoding\n",
    "encoded_df = pd.get_dummies(df)  \n",
    "print(\"\\nEncoded DataFrame with One-Hot Encoding:\")\n",
    "print(encoded_df.head())\n",
    "\n"
   ]
  },
  {
   "cell_type": "code",
   "execution_count": 104,
   "id": "11dbfc3f-8061-4c2b-ae98-8fd742704cda",
   "metadata": {},
   "outputs": [
    {
     "name": "stdout",
     "output_type": "stream",
     "text": [
      "\n",
      "DataFrame with Label Encoded 'place' Column:\n",
      "      PLACE  place_label_encoded\n",
      "0   Chennai                    2\n",
      "1    Mumbai                    6\n",
      "2  Calcutta                    1\n",
      "3     Delhi                    4\n",
      "4    Mumbai                    6\n"
     ]
    }
   ],
   "source": [
    "# Label Encoding \n",
    "label_encoder = LabelEncoder()\n",
    "df['place_label_encoded'] = label_encoder.fit_transform(df['PLACE'])\n",
    "print(\"\\nDataFrame with Label Encoded 'place' Column:\")\n",
    "print(df[['PLACE', 'place_label_encoded']].head())\n"
   ]
  },
  {
   "cell_type": "markdown",
   "id": "e0523240-29bf-4b15-8355-414d92621d83",
   "metadata": {},
   "source": [
    "<h3  style=\"color:green;\">Feature Scaling </h3>"
   ]
  },
  {
   "cell_type": "code",
   "execution_count": 108,
   "id": "6e8e2801-d518-4237-8f06-c73787ca7ecb",
   "metadata": {},
   "outputs": [
    {
     "name": "stdout",
     "output_type": "stream",
     "text": [
      "[[-1.46737581  0.        ]\n",
      " [-0.24875897  0.        ]\n",
      " [ 0.36054944 -1.26412245]\n",
      " [ 0.96985786 -0.96752641]\n",
      " [-1.10179076 -0.54381778]\n",
      " [ 0.         -0.12010914]\n",
      " [ 0.          0.30359949]\n",
      " [-1.10179076  0.72730813]\n",
      " [ 0.23868776  1.15101676]\n",
      " [ 1.57916628  1.57472539]\n",
      " [-1.10179076  0.        ]\n",
      " [ 0.23868776 -1.77723361]\n",
      " [ 1.57916628  0.        ]\n",
      " [-1.71109918 -1.71579586]\n",
      " [ 0.96985786 -0.96752641]\n",
      " [-1.10179076 -0.96752641]\n",
      " [-1.10179076 -0.95481515]\n",
      " [ 0.23868776 -0.12010914]\n",
      " [-1.22365245  0.        ]\n",
      " [-0.00503561  0.        ]\n",
      " [ 0.60427281 -0.94845952]\n",
      " [ 2.1884747  -0.88956402]\n",
      " [-1.34551413 -0.19468186]\n",
      " [ 0.          0.23368757]\n",
      " [ 0.          0.76289965]\n",
      " [-1.10179076  1.550574  ]\n",
      " [ 0.23868776  1.29719624]\n",
      " [ 1.57916628  1.69505864]\n",
      " [-1.10179076  1.94589416]\n",
      " [ 0.36054944 -1.37682895]\n",
      " [ 1.70102797  1.00441357]\n",
      " [-1.46737581 -0.99549118]\n",
      " [ 1.57916628 -0.52941168]\n",
      " [ 0.48241113 -0.10570305]\n",
      " [-0.73620571  1.2366059 ]\n",
      " [ 0.36054944  1.5848944 ]\n",
      " [-0.00503561  0.        ]\n",
      " [ 0.36054944  0.        ]\n",
      " [ 0.23868776 -1.26412245]\n",
      " [ 1.09171955 -0.96752641]\n",
      " [-0.97992908 -0.3976383 ]\n",
      " [ 0.         -0.12010914]\n",
      " [ 0.          0.30359949]\n",
      " [-0.85806739  0.72730813]\n",
      " [ 0.36054944  1.15101676]\n",
      " [ 1.70102797  1.57472539]\n",
      " [-0.97992908  0.        ]\n",
      " [-0.00503561 -1.77723361]\n",
      " [ 1.33544292  0.        ]\n",
      " [-1.5892375  -1.71579586]\n",
      " [ 1.09171955 -0.96752641]\n",
      " [-0.97992908 -0.96752641]\n",
      " [-1.34551413 -0.95481515]\n",
      " [ 0.36054944 -0.12010914]\n",
      " [-1.34551413  0.53409699]\n",
      " [-0.00503561  1.00441357]\n",
      " [ 0.7261345  -0.94845952]\n",
      " [ 2.31033639 -0.88956402]\n",
      " [-1.10179076 -0.19468186]\n",
      " [ 0.          0.23368757]\n",
      " [ 0.          0.76289965]\n",
      " [-0.85806739  1.550574  ]\n",
      " [ 0.48241113  1.29719624]\n",
      " [ 1.09171955  1.69505864]\n",
      " [-0.85806739  0.53367328]\n",
      " [-0.12689729 -1.37682895]\n",
      " [ 1.09171955  0.        ]\n",
      " [-1.34551413 -0.99549118]\n",
      " [ 1.33544292 -0.52941168]\n",
      " [-0.00503561 -0.10570305]\n",
      " [-1.34551413  1.2366059 ]\n",
      " [ 0.23868776  1.5848944 ]\n",
      " [-0.97992908  0.        ]\n",
      " [ 0.23868776  0.        ]\n",
      " [ 0.60427281 -1.26412245]\n",
      " [ 1.4573046  -0.96752641]\n",
      " [-0.00503561 -0.54381778]\n",
      " [ 0.         -0.12010914]\n",
      " [ 0.          0.30359949]\n",
      " [-0.73620571  0.72730813]\n",
      " [-0.00503561  1.15101676]\n",
      " [ 1.33544292  1.57472539]\n",
      " [-1.22365245  0.        ]\n",
      " [ 0.11682608 -1.77723361]\n",
      " [-1.83296087 -1.71579586]\n",
      " [ 1.09171955 -0.96752641]\n",
      " [-1.34551413 -0.96752641]\n",
      " [ 0.         -0.95481515]\n",
      " [ 0.48241113 -0.12010914]\n",
      " [-1.34551413  0.        ]\n",
      " [ 0.23868776  0.        ]\n",
      " [ 0.         -0.94845952]\n",
      " [ 2.67592144 -0.88956402]\n",
      " [-1.22365245 -0.19468186]\n",
      " [ 0.          0.23368757]\n",
      " [ 0.          0.76289965]\n",
      " [-1.22365245  1.550574  ]\n",
      " [ 0.11682608  1.29719624]\n",
      " [ 1.4573046   1.69505864]\n",
      " [-1.22365245  0.        ]\n",
      " [ 0.         -1.37682895]\n",
      " [ 1.4573046   0.        ]\n",
      " [-1.22365245 -0.99549118]\n",
      " [ 1.4573046  -0.52941168]\n",
      " [ 0.11682608 -0.10570305]\n",
      " [-1.22365245  1.2366059 ]\n",
      " [ 0.          1.5848944 ]\n",
      " [ 0.11682608  0.        ]\n",
      " [ 0.11682608  0.        ]\n",
      " [ 0.11682608 -1.26412245]\n",
      " [ 0.         -0.86837859]\n",
      " [-1.22365245 -0.40653618]\n",
      " [ 0.          0.06420411]\n",
      " [ 0.          0.11504915]\n",
      " [-1.22365245  1.48447545]\n",
      " [ 0.11682608  1.48447545]\n",
      " [ 1.4573046   1.94589416]\n",
      " [-1.22365245  0.        ]\n",
      " [ 0.11682608 -1.77723361]\n",
      " [ 1.4573046   0.        ]\n",
      " [ 0.         -1.71579586]\n",
      " [ 1.4573046  -0.86837859]\n",
      " [ 0.         -0.77516269]\n",
      " [-1.22365245  1.48447545]\n",
      " [ 0.11682608  0.1569963 ]\n",
      " [-1.46737581 -0.11629576]\n",
      " [-0.24875897 -0.0785857 ]\n",
      " [ 0.11682608 -0.94845952]\n",
      " [ 2.1884747  -0.88956402]\n",
      " [ 0.          0.76289965]\n",
      " [-1.22365245  1.550574  ]\n",
      " [-0.12689729  1.29719624]\n",
      " [ 0.96985786  1.69505864]\n",
      " [ 0.          0.        ]\n",
      " [-0.12689729 -1.37682895]\n",
      " [ 1.4573046  -0.95354402]\n",
      " [-1.22365245 -0.99549118]\n",
      " [ 1.4573046  -0.52941168]\n",
      " [ 0.11682608 -0.10570305]\n",
      " [-1.22365245  1.2366059 ]\n",
      " [ 0.11682608  1.5848944 ]\n",
      " [ 1.4573046  -0.52941168]\n",
      " [ 0.11682608 -0.10570305]\n",
      " [-1.22365245  1.2366059 ]]\n"
     ]
    }
   ],
   "source": [
    "from sklearn.preprocessing import StandardScaler, MinMaxScaler\n",
    "\n",
    "numeric_columns = ['AGE', 'SALARY']  # Replace with your encoded numeric columns\n",
    "numeric_df = df[numeric_columns]\n",
    "scaler = StandardScaler()\n",
    "scaled_data = scaler.fit_transform(numeric_df)\n",
    "print(scaled_data)"
   ]
  },
  {
   "cell_type": "code",
   "execution_count": 109,
   "id": "c2a16f74-5c90-4a57-85cf-c6f88a7c7f37",
   "metadata": {},
   "outputs": [
    {
     "name": "stdout",
     "output_type": "stream",
     "text": [
      "[[0.08108108 0.47734962]\n",
      " [0.35135135 0.47734962]\n",
      " [0.48648649 0.13781723]\n",
      " [0.62162162 0.21748037]\n",
      " [0.16216216 0.33128485]\n",
      " [0.40652222 0.44508934]\n",
      " [0.40652222 0.55889382]\n",
      " [0.16216216 0.6726983 ]\n",
      " [0.45945946 0.78650279]\n",
      " [0.75675676 0.90030727]\n",
      " [0.16216216 0.47734962]\n",
      " [0.45945946 0.        ]\n",
      " [0.75675676 0.47734962]\n",
      " [0.02702703 0.01650165]\n",
      " [0.62162162 0.21748037]\n",
      " [0.16216216 0.21748037]\n",
      " [0.16216216 0.2208945 ]\n",
      " [0.45945946 0.44508934]\n",
      " [0.13513514 0.47734962]\n",
      " [0.40540541 0.47734962]\n",
      " [0.54054054 0.22260157]\n",
      " [0.89189189 0.23842039]\n",
      " [0.10810811 0.42505975]\n",
      " [0.40652222 0.54011608]\n",
      " [0.40652222 0.68225788]\n",
      " [0.16216216 0.89382042]\n",
      " [0.45945946 0.82576534]\n",
      " [0.75675676 0.93262775]\n",
      " [0.16216216 1.        ]\n",
      " [0.48648649 0.10754524]\n",
      " [0.78378378 0.74712644]\n",
      " [0.08108108 0.20996927]\n",
      " [0.75675676 0.33515421]\n",
      " [0.51351351 0.44895869]\n",
      " [0.24324324 0.80949129]\n",
      " [0.48648649 0.90303858]\n",
      " [0.40540541 0.47734962]\n",
      " [0.48648649 0.47734962]\n",
      " [0.45945946 0.13781723]\n",
      " [0.64864865 0.21748037]\n",
      " [0.18918919 0.3705474 ]\n",
      " [0.40652222 0.44508934]\n",
      " [0.40652222 0.55889382]\n",
      " [0.21621622 0.6726983 ]\n",
      " [0.48648649 0.78650279]\n",
      " [0.78378378 0.90030727]\n",
      " [0.18918919 0.47734962]\n",
      " [0.40540541 0.        ]\n",
      " [0.7027027  0.47734962]\n",
      " [0.05405405 0.01650165]\n",
      " [0.64864865 0.21748037]\n",
      " [0.18918919 0.21748037]\n",
      " [0.10810811 0.2208945 ]\n",
      " [0.48648649 0.44508934]\n",
      " [0.10810811 0.62080346]\n",
      " [0.40540541 0.74712644]\n",
      " [0.56756757 0.22260157]\n",
      " [0.91891892 0.23842039]\n",
      " [0.16216216 0.42505975]\n",
      " [0.40652222 0.54011608]\n",
      " [0.40652222 0.68225788]\n",
      " [0.21621622 0.89382042]\n",
      " [0.51351351 0.82576534]\n",
      " [0.64864865 0.93262775]\n",
      " [0.21621622 0.62068966]\n",
      " [0.37837838 0.10754524]\n",
      " [0.64864865 0.47734962]\n",
      " [0.10810811 0.20996927]\n",
      " [0.7027027  0.33515421]\n",
      " [0.40540541 0.44895869]\n",
      " [0.10810811 0.80949129]\n",
      " [0.45945946 0.90303858]\n",
      " [0.18918919 0.47734962]\n",
      " [0.45945946 0.47734962]\n",
      " [0.54054054 0.13781723]\n",
      " [0.72972973 0.21748037]\n",
      " [0.40540541 0.33128485]\n",
      " [0.40652222 0.44508934]\n",
      " [0.40652222 0.55889382]\n",
      " [0.24324324 0.6726983 ]\n",
      " [0.40540541 0.78650279]\n",
      " [0.7027027  0.90030727]\n",
      " [0.13513514 0.47734962]\n",
      " [0.43243243 0.        ]\n",
      " [0.         0.01650165]\n",
      " [0.64864865 0.21748037]\n",
      " [0.10810811 0.21748037]\n",
      " [0.40652222 0.2208945 ]\n",
      " [0.51351351 0.44508934]\n",
      " [0.10810811 0.47734962]\n",
      " [0.45945946 0.47734962]\n",
      " [0.40652222 0.22260157]\n",
      " [1.         0.23842039]\n",
      " [0.13513514 0.42505975]\n",
      " [0.40652222 0.54011608]\n",
      " [0.40652222 0.68225788]\n",
      " [0.13513514 0.89382042]\n",
      " [0.43243243 0.82576534]\n",
      " [0.72972973 0.93262775]\n",
      " [0.13513514 0.47734962]\n",
      " [0.40652222 0.10754524]\n",
      " [0.72972973 0.47734962]\n",
      " [0.13513514 0.20996927]\n",
      " [0.72972973 0.33515421]\n",
      " [0.43243243 0.44895869]\n",
      " [0.13513514 0.80949129]\n",
      " [0.40652222 0.90303858]\n",
      " [0.43243243 0.47734962]\n",
      " [0.43243243 0.47734962]\n",
      " [0.43243243 0.13781723]\n",
      " [0.40652222 0.24411062]\n",
      " [0.13513514 0.36815751]\n",
      " [0.40652222 0.49459429]\n",
      " [0.40652222 0.50825083]\n",
      " [0.13513514 0.87606692]\n",
      " [0.43243243 0.87606692]\n",
      " [0.72972973 1.        ]\n",
      " [0.13513514 0.47734962]\n",
      " [0.43243243 0.        ]\n",
      " [0.72972973 0.47734962]\n",
      " [0.40652222 0.01650165]\n",
      " [0.72972973 0.24411062]\n",
      " [0.40652222 0.2691476 ]\n",
      " [0.13513514 0.87606692]\n",
      " [0.43243243 0.51951747]\n",
      " [0.08108108 0.44611358]\n",
      " [0.35135135 0.45624218]\n",
      " [0.43243243 0.22260157]\n",
      " [0.89189189 0.23842039]\n",
      " [0.40652222 0.68225788]\n",
      " [0.13513514 0.89382042]\n",
      " [0.37837838 0.82576534]\n",
      " [0.62162162 0.93262775]\n",
      " [0.40652222 0.47734962]\n",
      " [0.37837838 0.10754524]\n",
      " [0.72972973 0.22123592]\n",
      " [0.13513514 0.20996927]\n",
      " [0.72972973 0.33515421]\n",
      " [0.43243243 0.44895869]\n",
      " [0.13513514 0.80949129]\n",
      " [0.43243243 0.90303858]\n",
      " [0.72972973 0.33515421]\n",
      " [0.43243243 0.44895869]\n",
      " [0.13513514 0.80949129]]\n"
     ]
    }
   ],
   "source": [
    "# MinMaxScaler example\n",
    "scaler_minmax = MinMaxScaler()\n",
    "scaled_minmax = scaler_minmax.fit_transform(numeric_df)\n",
    "print(scaled_minmax)"
   ]
  },
  {
   "cell_type": "code",
   "execution_count": null,
   "id": "4b6a73f2-a02c-4a17-b6f4-71defc366e37",
   "metadata": {},
   "outputs": [],
   "source": []
  },
  {
   "cell_type": "code",
   "execution_count": null,
   "id": "f695201f-bb92-4952-857f-3a9c7684532e",
   "metadata": {},
   "outputs": [],
   "source": []
  }
 ],
 "metadata": {
  "kernelspec": {
   "display_name": "Python 3 (ipykernel)",
   "language": "python",
   "name": "python3"
  },
  "language_info": {
   "codemirror_mode": {
    "name": "ipython",
    "version": 3
   },
   "file_extension": ".py",
   "mimetype": "text/x-python",
   "name": "python",
   "nbconvert_exporter": "python",
   "pygments_lexer": "ipython3",
   "version": "3.12.0"
  }
 },
 "nbformat": 4,
 "nbformat_minor": 5
}
